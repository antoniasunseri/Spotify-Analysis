{
 "cells": [
  {
   "cell_type": "markdown",
   "id": "1f8ae2d3",
   "metadata": {},
   "source": [
    "## **Data Exploration and Cleaning**"
   ]
  },
  {
   "cell_type": "code",
   "execution_count": null,
   "id": "7c97b424",
   "metadata": {},
   "outputs": [],
   "source": [
    "# Importing packages \n",
    "import numpy as np\n",
    "import pandas as pd\n",
    "import plotly.express as px\n",
    "import matplotlib.pyplot as plt\n",
    "import seaborn as sns"
   ]
  },
  {
   "cell_type": "code",
   "execution_count": null,
   "id": "7a13e985",
   "metadata": {},
   "outputs": [],
   "source": [
    "df= pd.read_csv('songs_normalize.csv')\n",
    "\n",
    "# List columnn names\n",
    "print(df.columns) # 18 fields\n",
    "\n",
    "# Checking for missing values \n",
    "df.isnull().sum().sort_values(ascending=False)"
   ]
  },
  {
   "cell_type": "markdown",
   "id": "8dc7be91",
   "metadata": {},
   "source": [
    "No missing values were present in the dataset. Therefore, there is no need for imputing missing values. "
   ]
  },
  {
   "cell_type": "code",
   "execution_count": null,
   "id": "12558b6f",
   "metadata": {},
   "outputs": [],
   "source": [
    "# Number of rows\n",
    "len(df) # 2,000 observations present in our dataset "
   ]
  },
  {
   "cell_type": "code",
   "execution_count": null,
   "id": "f0bb5761",
   "metadata": {},
   "outputs": [],
   "source": [
    "# Removing duplciate rows\n",
    "dataframe_filtered = df.drop_duplicates()\n",
    "duplicate_rows = len(df) - (len(dataframe_filtered)) \n",
    "print(duplicate_rows)"
   ]
  },
  {
   "cell_type": "markdown",
   "id": "675fb0d6",
   "metadata": {},
   "source": [
    "59 duplicated rows are present. If there is a machine learning algorithm applied these rows could skew the results and introduce potential bias. "
   ]
  },
  {
   "cell_type": "code",
   "execution_count": null,
   "id": "53a6dc95",
   "metadata": {},
   "outputs": [],
   "source": [
    "# skim through the data\n",
    "#for column in dataframe_1.columns:\n",
    " #   print(f\"\\nColumn: {column}\")\n",
    "  #  print(dataframe_1[column].unique())\n",
    "\n",
    "# First 6 rows\n",
    "dataframe_filtered.head()\n",
    "\n",
    "print(df.dtypes)"
   ]
  },
  {
   "cell_type": "markdown",
   "id": "6183bf3e",
   "metadata": {},
   "source": [
    "There seems to be no issue with the data types in the data frame as they seem to match exactly with the data types for each column."
   ]
  },
  {
   "cell_type": "code",
   "execution_count": null,
   "id": "eda4fd94",
   "metadata": {},
   "outputs": [],
   "source": [
    "# Summary statistics on data frame\n",
    "dataframe_filtered.describe()"
   ]
  }
 ],
 "metadata": {
  "language_info": {
   "name": "python"
  }
 },
 "nbformat": 4,
 "nbformat_minor": 5
}
