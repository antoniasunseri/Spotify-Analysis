{
 "cells": [
  {
   "cell_type": "markdown",
   "id": "f044d5ce",
   "metadata": {},
   "source": [
    "## **Spotify Analysis**"
   ]
  },
  {
   "cell_type": "markdown",
   "id": "cce23bbc",
   "metadata": {},
   "source": [
    "## **Group Members:** \n",
    "* Antonia Sunseri \n",
    "* Manith Kumarapeli"
   ]
  },
  {
   "cell_type": "markdown",
   "id": "3cd951fb",
   "metadata": {},
   "source": [
    "## **Problem Statement**"
   ]
  },
  {
   "cell_type": "markdown",
   "id": "f8fcc5d5",
   "metadata": {},
   "source": [
    "This project investigates temporal trends in the characteristics of top-hit songs from 2000 to 2019 using the \"Top Hits Spotify from 2000–2019\" dataset (Kaggle: https://www.kaggle.com/datasets/paradisejoy/top-hits-spotify-from-20002019). Our primary focus is to analyze how the average duration of hit songs has changed over time and to explore audio features that may influence these shifts.\n",
    "\n",
    "In particular, we examine the impact of the digital age—characterized by shorter attention spans and the rise of music streaming platforms—which may incentivize producing shorter songs to maximize play counts and streaming revenue. By studying changes in song length across two decades, we aim to uncover patterns reflecting broader transformations in music consumption.\n",
    "\n",
    "Beyond duration, we will analyze features that contribute to a song’s popularity and explore genre trends over time, assessing whether shifts in genre popularity correspond to changing listener preferences.\n",
    "\n",
    "Through this analysis, we seek to reveal how evolving listener behavior, industry economics, and cultural trends have shaped the structure and success of hit songs."
   ]
  },
  {
   "cell_type": "markdown",
   "id": "67749305",
   "metadata": {},
   "source": [
    "## **Description of Analysis & Wrangling Methods**"
   ]
  },
  {
   "cell_type": "markdown",
   "id": "f5de795c",
   "metadata": {},
   "source": [
    "### **Wrangling Methods** "
   ]
  },
  {
   "cell_type": "markdown",
   "id": "13ede8d0",
   "metadata": {},
   "source": [
    "* Check for missing values\n",
    "* Check for duplicates\n",
    "* Unique values\n",
    "* Outlier detection & Removal "
   ]
  },
  {
   "cell_type": "markdown",
   "id": "f591adbf",
   "metadata": {},
   "source": [
    "## **Initial Insights & Hypothesis**"
   ]
  },
  {
   "cell_type": "markdown",
   "id": "52036d31",
   "metadata": {},
   "source": [
    "We initially hypothesized that the average duration of top-hit songs has declined from 2000 to 2019, influenced by the digital age’s emphasis on shorter attention spans and the economics of music streaming platforms, which may favor shorter songs to increase play counts and maximize revenue. We also hypothesized that tracks featuring collaborations—such as guest artists or remixes—are more likely to have higher popularity scores, as they appeal to a broader audience. Additionally, we expect to observe shifts in the popularity of certain music genres over time, driven by changing cultural preferences and generational listening habits. These hypotheses reflect the story that cultural changes have had a measurable imapct on the features of hit tracks over the past two decades. "
   ]
  },
  {
   "cell_type": "markdown",
   "id": "0adf4493",
   "metadata": {},
   "source": [
    "## **Modeling/Analysis Strategy** "
   ]
  },
  {
   "cell_type": "markdown",
   "id": "283de977",
   "metadata": {},
   "source": [
    "Our modeling and analysis, strategy began with a comprehensive data cleaning and preprocessing phase of the **\"Top Hits Spotify (2000-2019)\"** dataset. We removed 59 duplicate rows, handled missing entries such as 'set()' in thegenre column (replacing them with 'Unknown'), and ensured consistent formatting by converting appropriate columns to numeric or boolean types. To reduce noise and improve interpretability, we simplified the genre classifcation by extracting the primary genre from multio-genre entries and created a new 'new_genre' column. Additonally, we engineered new featrues by flagging songs that were edited versions (e.g, \"Remic\", \"Radio Edit\") adn songs with featured artists (e.g, containing \"feat\" or \"&\") based on keywordds in the song titles. We also cleaned the 'explicit' column by mapping all values to boolean format and excluded tracks with a popularity score of zero, which were likely missing or invalid data points. \n",
    "Following this, exploratory data analysis (EDA) was conducted to understand the structure and distribution of the cleaned dataset. We computed descriptive statistics and used visualizations such as histograms and boxplots to assess feature distributions and detect skewness or outliers. To further normalize skewed distributions and improve modeling performance, Box-Cox transformations were applied to continuous variables such as popularity, danceability, and loudness, allowing us to better meet the assumptions of linear modeling techniques.\n",
    "\n",
    "To uncover relationships between track characteristics, we computed and visualized a correlation matrix using a heatmap. This revealed moderate to strong correlations among features such as popularity, danceability, energy, and loudness, providing valuable insights into what contributes to a track’s success. These cleaned and enriched features laid the foundation for more reliable and interpretable modeling in the next steps of our analysis."
   ]
  },
  {
   "cell_type": "markdown",
   "id": "4a8237bf",
   "metadata": {},
   "source": [
    "## **Project Goals**"
   ]
  },
  {
   "cell_type": "markdown",
   "id": "9f0b4f74",
   "metadata": {},
   "source": [
    "The primary goal of this analysis is to investigate temporal trends in the top Spotify hits from 2000 to 2019, focusing on song duration and popularity. Our exploratory data anlysis will aim to uncover patterns in track features while also identifying potential outlier and correltations. By examining these temporal trends, we hope to understand listener behaviors, streaming platforms, and cultural influences that have shaped 'popular' music. "
   ]
  },
  {
   "cell_type": "markdown",
   "id": "920d975a",
   "metadata": {},
   "source": [
    "## **Problems Faced**"
   ]
  },
  {
   "cell_type": "markdown",
   "id": "8d7f4059",
   "metadata": {},
   "source": [
    "Despite our approach, skewness in numerical features such as popularity, loudness, and acousticness posed additional challenges, prompting the use of Box-Cox transformations to normalize their distributions; in total, seven features exhibited significant skewness. However, Box-Cox does not always succeed in producing a normal distribution—especially when variables have heavy tails, extreme outliers, or contain zero or negative values. For example, while the transformation helped reduce skewness in several features, loudness still displayed non-normal behavior, highlighting that Box-Cox is a useful but not definitive solution. Lastly, identifying edited and featured versions of songs required detailed string parsing using keyword-based logic, and filtering out records with zero popularity had to be done cautiously to avoid discarding meaningful data."
   ]
  }
 ],
 "metadata": {
  "kernelspec": {
   "display_name": "base",
   "language": "python",
   "name": "python3"
  },
  "language_info": {
   "codemirror_mode": {
    "name": "ipython",
    "version": 3
   },
   "file_extension": ".py",
   "mimetype": "text/x-python",
   "name": "python",
   "nbconvert_exporter": "python",
   "pygments_lexer": "ipython3",
   "version": "3.12.7"
  }
 },
 "nbformat": 4,
 "nbformat_minor": 5
}
