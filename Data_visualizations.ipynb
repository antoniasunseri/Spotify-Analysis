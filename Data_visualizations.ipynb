{
 "cells": [
  {
   "cell_type": "markdown",
   "id": "fcb98846",
   "metadata": {},
   "source": [
    "## **Data Visualizations**"
   ]
  },
  {
   "cell_type": "code",
   "execution_count": null,
   "id": "0bc0e255",
   "metadata": {},
   "outputs": [],
   "source": [
    "# Importing packages \n",
    "import numpy as np\n",
    "import pandas as pd\n",
    "import plotly.express as px\n",
    "import matplotlib.pyplot as plt\n",
    "import seaborn as sns"
   ]
  },
  {
   "cell_type": "code",
   "execution_count": null,
   "id": "ca4b7a44",
   "metadata": {},
   "outputs": [],
   "source": [
    "df= pd.read_csv('songs_normalize.csv')\n",
    "# Removing duplciate rows\n",
    "dataframe_filtered = df.drop_duplicates()\n",
    "duplicate_rows = len(df) - (len(dataframe_filtered)) \n",
    "print(duplicate_rows)"
   ]
  },
  {
   "cell_type": "code",
   "execution_count": null,
   "id": "1ad49c87",
   "metadata": {},
   "outputs": [],
   "source": [
    "sns.histplot(data = dataframe_filtered, x = 'duration_ms', kde = True)\n",
    "plt.xlabel('Song Duration (ms)')\n",
    "plt.ylabel('Freuqency')\n",
    "plt.show()"
   ]
  },
  {
   "cell_type": "markdown",
   "id": "b069e655",
   "metadata": {},
   "source": [
    "In right skewed data, the mean > median. According to the statitsics computed, the mean is 228,594.97 and the median is 223,186.00. Thus, we have confirmed that 'Song Duration (ms)' is right skewed or positvely skewed.  "
   ]
  },
  {
   "cell_type": "code",
   "execution_count": null,
   "id": "0165ca36",
   "metadata": {},
   "outputs": [],
   "source": [
    "# Popularity \n",
    "sns.histplot(data = dataframe_filtered, x = 'popularity', kde = True)\n",
    "plt.xlabel('Popularity Rating')\n",
    "plt.ylabel('Freuqency')\n",
    "plt.show()"
   ]
  },
  {
   "cell_type": "markdown",
   "id": "e6491b28",
   "metadata": {},
   "source": [
    "In left skewed data, the median > mean. In the statistics computed for 'popularity', the mean was 59.63 with a median of 65.0. \n",
    "Thus, 'popularity' is negatively skewed. "
   ]
  },
  {
   "cell_type": "code",
   "execution_count": null,
   "id": "e492dce5",
   "metadata": {},
   "outputs": [],
   "source": [
    "# Strip any whitespace, split by comma, and take the first genre listed\n",
    "dataframe_filtered['genre'] = dataframe_filtered['genre'].replace('set()', 'Unknown')\n",
    "dataframe_filtered['primary_genre'] = dataframe_filtered['genre'].apply(lambda x: x.split(',')[0].strip())"
   ]
  },
  {
   "cell_type": "code",
   "execution_count": null,
   "id": "c56e9cf4",
   "metadata": {},
   "outputs": [],
   "source": [
    "# Creating the box plot using object-oriented approach\n",
    "fig, ax = plt.subplots(figsize=(17, 10))\n",
    "\n",
    "dataframe_filtered.boxplot(column='popularity', by='primary_genre', ax=ax)\n",
    "ax.set_title('Distribution of popularity scores per genre')\n",
    "ax.set_xlabel('Genre')\n",
    "ax.set_ylabel('Popularity Score')\n",
    "plt.suptitle('')\n",
    "ax.grid(axis='y', linestyle='--', alpha=0.7)\n",
    "\n",
    "# Display the plot\n",
    "plt.show()\n"
   ]
  },
  {
   "cell_type": "code",
   "execution_count": null,
   "id": "19091f36",
   "metadata": {},
   "outputs": [],
   "source": [
    "print(dataframe_filtered[['genre', 'primary_genre']])"
   ]
  },
  {
   "cell_type": "code",
   "execution_count": null,
   "id": "f62d80f1",
   "metadata": {},
   "outputs": [],
   "source": [
    "print(dataframe_filtered['primary_genre'].nunique())\n",
    "print(dataframe_filtered['primary_genre'].value_counts())"
   ]
  },
  {
   "cell_type": "markdown",
   "id": "86d3ead4",
   "metadata": {},
   "source": [
    "There are now 12 unique genres. "
   ]
  },
  {
   "cell_type": "code",
   "execution_count": null,
   "id": "4cb3f36c",
   "metadata": {},
   "outputs": [],
   "source": [
    "# Count values\n",
    "genre_counts = dataframe_filtered['primary_genre'].value_counts()\n",
    "\n",
    "# Plot\n",
    "plt.figure(figsize=(8, 6))\n",
    "genre_counts.plot(kind='bar')\n",
    "plt.title('Number of Song Per Genre')\n",
    "plt.xlabel('Genre')\n",
    "plt.ylabel('Number of Songs')\n",
    "plt.grid(axis='y', linestyle='-', alpha=0.7)\n",
    "plt.tight_layout()\n",
    "plt.show()"
   ]
  },
  {
   "cell_type": "markdown",
   "id": "9e262977",
   "metadata": {},
   "source": [
    "A majority of our samples are in pop and hip-hop. A samller portion of our data is explained by the remaining genres. "
   ]
  },
  {
   "cell_type": "code",
   "execution_count": null,
   "id": "2994fd2f",
   "metadata": {},
   "outputs": [],
   "source": [
    "# Explicit\n",
    "# Count values\n",
    "print(dataframe_filtered['explicit'].dtype)\n",
    "explicit_counts = dataframe_filtered['explicit'].value_counts()\n",
    "\n",
    "# Plot\n",
    "plt.figure(figsize=(8, 6))\n",
    "explicit_counts.plot(kind='bar', color=['blue', 'green'])\n",
    "plt.title('Number of Explicit vs Non-Explicit Songs')\n",
    "plt.xlabel('Explicit')\n",
    "plt.ylabel('Number of Songs')\n",
    "plt.xticks(ticks=[0, 1], labels=['False', 'True'], rotation=0)\n",
    "plt.grid(axis='y', linestyle='-', alpha=0.7)\n",
    "plt.tight_layout()\n",
    "plt.show()"
   ]
  },
  {
   "cell_type": "markdown",
   "id": "d00f51ec",
   "metadata": {},
   "source": [
    "A majority of songs observed did not contain any explicit content. The field 'explicit' is defined as the lyrics or content of a song or a music video contain one or more of the criteria which could be considered offensive or unsuitable for children. There is only a small proportion of songs where there is explicit language. Inutively this makes sense because pop and hip-songs were a majority of our data's samples which typocally less explciit then other genres such as rap. "
   ]
  },
  {
   "cell_type": "code",
   "execution_count": null,
   "id": "6f249815",
   "metadata": {},
   "outputs": [],
   "source": [
    "dataframe_filtered['explicit'] = dataframe_filtered['explicit'].astype(int)"
   ]
  },
  {
   "cell_type": "code",
   "execution_count": null,
   "id": "666d8e67",
   "metadata": {},
   "outputs": [],
   "source": [
    "sns.histplot(data = dataframe_filtered, x = 'danceability', kde = True)\n",
    "plt.xlabel('Danceability Score')\n",
    "plt.ylabel('Freuqency')\n",
    "plt.show()"
   ]
  },
  {
   "cell_type": "markdown",
   "id": "7bfac445",
   "metadata": {},
   "source": [
    "The distribution of danceability ratings revealed a symmetric distribution with equal mean and median. Thus, the distribution of danceability scores are uniform. "
   ]
  },
  {
   "cell_type": "code",
   "execution_count": null,
   "id": "2281e3e2",
   "metadata": {},
   "outputs": [],
   "source": [
    "sns.histplot(data = dataframe_filtered, x = 'energy', kde = True)\n",
    "plt.xlabel('Energy Score')\n",
    "plt.ylabel('Freuqency')\n",
    "plt.show()"
   ]
  },
  {
   "cell_type": "code",
   "execution_count": null,
   "id": "8fdf8c51",
   "metadata": {},
   "outputs": [],
   "source": [
    "plt.figure(figsize=(12, 14))\n",
    "sns.boxplot(x='primary_genre', y='energy', data=dataframe_filtered)\n",
    "plt.xticks(rotation=45, ha='right')\n",
    "plt.title('Energy by Primary Genre')\n",
    "plt.xlabel('Primary Genre')\n",
    "plt.ylabel('Energy')\n",
    "plt.tight_layout()\n",
    "plt.show()"
   ]
  },
  {
   "cell_type": "markdown",
   "id": "fc6ffbe9",
   "metadata": {},
   "source": [
    "The distribution of energy scores revealed that median > mean. Thus, 'Energy Score' is negatively skewed. "
   ]
  },
  {
   "cell_type": "code",
   "execution_count": null,
   "id": "9957dd12",
   "metadata": {},
   "outputs": [],
   "source": [
    "sns.histplot(data = dataframe_filtered, x = 'loudness', kde = True)\n",
    "plt.xlabel('loudness')\n",
    "plt.ylabel('Freuqency')\n",
    "plt.show()"
   ]
  },
  {
   "cell_type": "markdown",
   "id": "030dafa3",
   "metadata": {},
   "source": [
    "The distribution of 'Loudness' scores revealed that the mean > median. Thus, 'Loudness' is positvely skewed. "
   ]
  },
  {
   "cell_type": "code",
   "execution_count": null,
   "id": "0e033e08",
   "metadata": {},
   "outputs": [],
   "source": [
    "plt.figure(figsize=(13, 12))\n",
    "sns.boxplot(x='primary_genre', y='loudness', data=dataframe_filtered)\n",
    "plt.xticks(rotation=45, ha='right')\n",
    "plt.title('Loudness by Primary Genre')\n",
    "plt.xlabel('Primary Genre')\n",
    "plt.ylabel('Loudness (dB)')\n",
    "plt.tight_layout()\n",
    "plt.show()"
   ]
  },
  {
   "cell_type": "markdown",
   "id": "21a109fb",
   "metadata": {},
   "source": [
    "In left skewed data, the median > mean. In the statistics computed for 'loudness', the mean was -5.51 with a median of -5.29. "
   ]
  },
  {
   "cell_type": "code",
   "execution_count": null,
   "id": "4316f8e3",
   "metadata": {},
   "outputs": [],
   "source": [
    "sns.histplot(data = dataframe_filtered, x = 'speechiness', kde = True)\n",
    "plt.xlabel('Speechiness')\n",
    "plt.ylabel('Freuqency')\n",
    "plt.show()"
   ]
  },
  {
   "cell_type": "markdown",
   "id": "ec8ad83a",
   "metadata": {},
   "source": [
    "In right skewed data, the mean > median. In the statistics computed for 'speechiness', the mean was 0.10 with a median of 0.06. Thus, 'speechiness' is right skewed. "
   ]
  },
  {
   "cell_type": "code",
   "execution_count": null,
   "id": "52750a69",
   "metadata": {},
   "outputs": [],
   "source": [
    "plt.figure(figsize=(14, 14))\n",
    "sns.boxplot(x='primary_genre', y='speechiness', data=dataframe_filtered, orient='v')\n",
    "plt.title('Speechiness Distribution by Genre')\n",
    "plt.xlabel('Genre')\n",
    "plt.ylabel('Speechiness')\n",
    "plt.grid(axis='x', linestyle='--', alpha=0.7)\n",
    "plt.tight_layout()\n",
    "plt.show()"
   ]
  },
  {
   "cell_type": "code",
   "execution_count": null,
   "id": "e986bcbd",
   "metadata": {},
   "outputs": [],
   "source": [
    "sns.histplot(data = dataframe_filtered, x = 'acousticness', kde = True)\n",
    "plt.xlabel('Acousticness')\n",
    "plt.ylabel('Freuqency')\n",
    "plt.show()"
   ]
  },
  {
   "cell_type": "markdown",
   "id": "0a410d5b",
   "metadata": {},
   "source": [
    "In right skewed data, the mean > median. In the statistics computed for 'acousticness', the mean was 0.13 with a median of 0.06. Thus, 'acousticness' is right skewed. "
   ]
  },
  {
   "cell_type": "code",
   "execution_count": null,
   "id": "e65b588d",
   "metadata": {},
   "outputs": [],
   "source": [
    "plt.figure(figsize=(14, 16))\n",
    "sns.boxplot(x='primary_genre', y='acousticness', data=dataframe_filtered, orient='v')\n",
    "plt.title('Speechiness Distribution by Genre')\n",
    "plt.xlabel('Genre')\n",
    "plt.ylabel('Acousticness')\n",
    "plt.grid(axis='x', linestyle='--', alpha=0.7)\n",
    "plt.tight_layout()\n",
    "plt.show()"
   ]
  },
  {
   "cell_type": "markdown",
   "id": "e514825f",
   "metadata": {},
   "source": [
    "left-skewed"
   ]
  },
  {
   "cell_type": "code",
   "execution_count": null,
   "id": "624a4c15",
   "metadata": {},
   "outputs": [],
   "source": [
    "# Insturmentals\n",
    "plt.figure(figsize=(10, 6))\n",
    "plt.hist(dataframe_filtered['instrumentalness'], bins=50, color='green', edgecolor='black')\n",
    "plt.title('Distribution of Instrumentalness')\n",
    "plt.xlabel('Instrumentalness')\n",
    "plt.ylabel('Number of Songs')\n",
    "plt.grid(axis='y', linestyle='--', alpha=0.7)\n",
    "plt.tight_layout()\n",
    "plt.show()"
   ]
  },
  {
   "cell_type": "code",
   "execution_count": null,
   "id": "1aff9553",
   "metadata": {},
   "outputs": [],
   "source": [
    "plt.figure(figsize=(14, 16))\n",
    "sns.boxplot(x='primary_genre', y='instrumentalness', data=dataframe_filtered, orient='v')\n",
    "plt.title('Instumentalness Distribution by Genre')\n",
    "plt.xlabel('Genre')\n",
    "plt.ylabel('Instrumentalness')\n",
    "plt.grid(axis='x', linestyle='--', alpha=0.7)\n",
    "plt.tight_layout()\n",
    "plt.show()"
   ]
  },
  {
   "cell_type": "markdown",
   "id": "dddbccfa",
   "metadata": {},
   "source": [
    "Instumentals predicts whether a track contains no vocals. \"Ooh\" and \"aah\" sounds are treated as instrumental in this context. Rap or spoken word tracks are clearly \"vocal\". The closer the instrumentalness value is to 1.0, the greater likelihood the track contains no vocal content. Since a majority of the samples are clustered around zero (right-skewed), this is evident of songs with lots of vocal content. Pop,hip-hop, rock, tend to have lots of vocal content compared to world and electronic music. "
   ]
  },
  {
   "cell_type": "code",
   "execution_count": null,
   "id": "4fa7c3e8",
   "metadata": {},
   "outputs": [],
   "source": [
    "# Liveness\n",
    "sns.histplot(data = dataframe_filtered, x = 'liveness', kde = True)\n",
    "plt.xlabel('Liveness')\n",
    "plt.ylabel('Freuqency')\n",
    "plt.show()"
   ]
  },
  {
   "cell_type": "markdown",
   "id": "7b1cb8f7",
   "metadata": {},
   "source": [
    "The distribution of liveness revealed a positively skewed distribution with mean 0.18 and median 0.12, meaning most songs have low liveness scores but few have very high values (above 0.8) indicating the likehood that the track is live. "
   ]
  },
  {
   "cell_type": "code",
   "execution_count": null,
   "id": "82ebed5e",
   "metadata": {},
   "outputs": [],
   "source": [
    "plt.figure(figsize=(16, 16))\n",
    "sns.boxplot(x='primary_genre', y='liveness', data=dataframe_filtered, orient='v')\n",
    "plt.title('Liveness Distribution by Genre')\n",
    "plt.xlabel('Genre')\n",
    "plt.ylabel('Liveness')\n",
    "plt.grid(axis='x', linestyle='--', alpha=0.7)\n",
    "plt.tight_layout()\n",
    "plt.show()"
   ]
  },
  {
   "cell_type": "markdown",
   "id": "56ece275",
   "metadata": {},
   "source": [
    "Liveness detects the presence of an audience in the recording. Higher liveness values represent an increased probability that the track was performed live. The distribution of liveness is strongly right-skewed, suggesting that most songs are studio-produced with minimal audience presence. Only a small portion of the dataset represents live recordings. Genres like pop and hip-hop typically are studio-produced while metal and rock are more likely to have live recordings. "
   ]
  },
  {
   "cell_type": "code",
   "execution_count": null,
   "id": "11e6a6c6",
   "metadata": {},
   "outputs": [],
   "source": [
    "# valence\n",
    "sns.histplot(data = dataframe_filtered, x = 'valence', kde = True)\n",
    "plt.xlabel('Valence')\n",
    "plt.ylabel('Freuqency')\n",
    "plt.show()"
   ]
  },
  {
   "cell_type": "markdown",
   "id": "55cab6ed",
   "metadata": {},
   "source": [
    "The distribution for 'valence' revealed equal mean and median suggesting an approximatley symmetric distribution with no strong skew. The symmetric distribution around ~ 0.55-0.56 implies a balanced mix of emotional tones in the dataset. Valence is the musical measure of 'positivness' on a 0-1.0 scale. Tracks with high valence sound more positive (e.g. happy, cheerful, euphoric), while tracks with low valence sound more negative (e.g. sad, depressed, angry)."
   ]
  },
  {
   "cell_type": "code",
   "execution_count": null,
   "id": "8d954b22",
   "metadata": {},
   "outputs": [],
   "source": [
    "# tempo \n",
    "sns.histplot(data = dataframe_filtered, x = 'tempo', kde = True)\n",
    "plt.xlabel('Tempo')\n",
    "plt.ylabel('Freuqency')\n",
    "plt.show()"
   ]
  },
  {
   "cell_type": "markdown",
   "id": "98cf94d0",
   "metadata": {},
   "source": [
    "The distribution for 'tempo' revealed equal mean and median suggesting an approximatley symmetric distribution with no strong skew. The symmetric distribution around ~ 90-130 BPM implies a typical tempo for hip-hop, dance, and pop tracks. Thus, the dataset has a balanced mix of song speeds. "
   ]
  },
  {
   "cell_type": "code",
   "execution_count": null,
   "id": "8f7f6575",
   "metadata": {},
   "outputs": [],
   "source": [
    "# Mode\n",
    "# Count values\n",
    "mode_counts = dataframe_filtered['mode'].value_counts()\n",
    "print(dataframe_filtered['mode'].value_counts().unique()) # 1074 Major key songs, 867 Minor key songs\n",
    "\n",
    "# Plot\n",
    "plt.figure(figsize=(8, 6))\n",
    "mode_counts.plot(kind='bar', color=['blue', 'green'])\n",
    "plt.title('Number of Major vs Minor key Songs')\n",
    "plt.xlabel('Mode')\n",
    "plt.ylabel('Number of Songs')\n",
    "plt.xticks(ticks=[0, 1], labels=['Major', 'Minor'], rotation=0)\n",
    "plt.grid(axis='y', linestyle='-', alpha=0.7)\n",
    "plt.tight_layout()\n",
    "plt.show()"
   ]
  },
  {
   "cell_type": "code",
   "execution_count": null,
   "id": "cd5a66a6",
   "metadata": {},
   "outputs": [],
   "source": [
    "# Creating the stacked bar plot using object-oriented approach\n",
    "fig, ax = plt.subplots(figsize=(12, 8))\n",
    "\n",
    "stacked_data = dataframe_filtered.pivot_table(index='primary_genre', columns='mode', aggfunc='size', fill_value=0)\n",
    "\n",
    "stacked_data.plot(kind='bar', stacked=True, ax=ax, color=['blue','green'])\n",
    "ax.set_title('Number of Songs per Genre by Mode')\n",
    "ax.set_xlabel('Genre')\n",
    "ax.set_ylabel('Number of Songs')\n",
    "ax.legend(title='Mode')\n",
    "ax.grid(axis='y', linestyle='--', alpha=0.7)\n",
    "\n",
    "# Display the plot\n",
    "plt.show()"
   ]
  },
  {
   "cell_type": "markdown",
   "id": "63fd3c1a",
   "metadata": {},
   "source": [
    "Mode indicates the modality (major or minor) of a track, the type of scale from which its melodic content is derived. Major is represented by 1 and minor is 0. The distribution of songs in the major track compared to the distirbution of songs in the minor track revealed that 1074 songs were in the major track while only 867 were in the minor track. Pop, dance, and rock music tend to be in the major track with genres such as alternative and metal are in the minor track. "
   ]
  },
  {
   "cell_type": "code",
   "execution_count": null,
   "id": "7a87a533",
   "metadata": {},
   "outputs": [],
   "source": [
    "# Artist\n",
    "dataframe_filtered['artist'].value_counts()"
   ]
  },
  {
   "cell_type": "code",
   "execution_count": null,
   "id": "7593a4d5",
   "metadata": {},
   "outputs": [],
   "source": [
    "# Song\n",
    "dataframe_filtered['song'].value_counts()"
   ]
  },
  {
   "cell_type": "code",
   "execution_count": null,
   "id": "cf04b53a",
   "metadata": {},
   "outputs": [],
   "source": [
    "# Calculate correlation matrix - numerical columns only \n",
    "corr_matrix = dataframe_filtered.corr(numeric_only=True)\n",
    "mask = np.triu(np.ones_like(corr_matrix, dtype=bool)) # avoids redundant values and the 1.00s on the diagonal \n",
    "\n",
    "# Creating Heatmap\n",
    "plt.figure(figsize=(10, 8))\n",
    "sns.heatmap(corr_matrix, mask=mask, annot=True, cmap='coolwarm', fmt=\".2f\", linewidths=0.5)\n",
    "plt.title('Correlation Matrix of Song Features')\n",
    "plt.show()"
   ]
  },
  {
   "cell_type": "markdown",
   "id": "dfd3a434",
   "metadata": {},
   "source": [
    "The correlation plot revealed a very strong positive correlation between energy and loudness: as the loudness of a track increases, its energy tends to increase as well. Acousticness and energy show a strong negative correlation, indicating that as acousticness decreases—typical of electronic or heavily produced tracks—energy tends to rise. Additionally, acousticness and loudness are moderately negatively correlated, suggesting that tracks with higher acousticness (more natural sounds) tend to be less loud, while those with lower acousticness tend to be louder.\n",
    "\n",
    "Valence (a measure of musical positivity) and danceability exhibit a moderate positive correlation of 0.40, meaning that more positive tracks tend to be more danceable. Similarly, speechiness and explicit content are moderately positively correlated (0.40), reflecting that songs with more spoken content, such as rap or hip-hop, are more likely to include explicit lyrics (profanity or adult themes).\n",
    "\n",
    "Finally, year and duration_ms have a moderate negative correlation (-0.32), indicating that newer songs tend to be shorter in duration. \n",
    "\n",
    "Since energy and loudness are very strongly correlated, one will be considered to be droped from the model to reduce multicollinearity. In addition, since speechiness and explicit are strongly corellated, I will also consider removing one of those variables.  "
   ]
  }
 ],
 "metadata": {
  "language_info": {
   "name": "python"
  }
 },
 "nbformat": 4,
 "nbformat_minor": 5
}
