{
 "cells": [
  {
   "cell_type": "code",
   "execution_count": 1,
   "id": "22a24d54",
   "metadata": {},
   "outputs": [],
   "source": [
    "# Import Statements\n",
    "import pandas as pd\n",
    "import dash\n",
    "from dash import dcc, html, Input, Output\n",
    "import plotly.express as px"
   ]
  },
  {
   "cell_type": "code",
   "execution_count": 2,
   "id": "b17dad88",
   "metadata": {},
   "outputs": [],
   "source": [
    "# Load and preprocess the dataset\n",
    "dataframe_1 = pd.read_csv('songs_normalize.csv')"
   ]
  },
  {
   "cell_type": "code",
   "execution_count": 3,
   "id": "cf9fabb1",
   "metadata": {},
   "outputs": [],
   "source": [
    "dataframe_filtered = dataframe_1.drop_duplicates() # Drop the 59 Duplicate rows"
   ]
  },
  {
   "cell_type": "code",
   "execution_count": 4,
   "id": "22efbf39",
   "metadata": {},
   "outputs": [
    {
     "name": "stdout",
     "output_type": "stream",
     "text": [
      "artist               object\n",
      "song                 object\n",
      "duration_ms           int64\n",
      "explicit               bool\n",
      "year                  int64\n",
      "popularity            int64\n",
      "danceability        float64\n",
      "energy              float64\n",
      "key                   int64\n",
      "loudness            float64\n",
      "mode                  int64\n",
      "speechiness         float64\n",
      "acousticness        float64\n",
      "instrumentalness    float64\n",
      "liveness            float64\n",
      "valence             float64\n",
      "tempo               float64\n",
      "genre                object\n",
      "dtype: object\n"
     ]
    }
   ],
   "source": [
    "print(dataframe_1.dtypes) # No issue with data types"
   ]
  },
  {
   "cell_type": "code",
   "execution_count": 5,
   "id": "1cb8d0ad",
   "metadata": {},
   "outputs": [
    {
     "data": {
      "application/vnd.microsoft.datawrangler.viewer.v0+json": {
       "columns": [
        {
         "name": "index",
         "rawType": "object",
         "type": "string"
        },
        {
         "name": "0",
         "rawType": "int64",
         "type": "integer"
        }
       ],
       "ref": "57bd4455-1617-4748-bd17-adfd1f904813",
       "rows": [
        [
         "artist",
         "835"
        ],
        [
         "song",
         "1879"
        ],
        [
         "duration_ms",
         "1793"
        ],
        [
         "explicit",
         "2"
        ],
        [
         "year",
         "23"
        ],
        [
         "popularity",
         "76"
        ],
        [
         "danceability",
         "565"
        ],
        [
         "energy",
         "580"
        ],
        [
         "key",
         "12"
        ],
        [
         "loudness",
         "1671"
        ],
        [
         "mode",
         "2"
        ],
        [
         "speechiness",
         "837"
        ],
        [
         "acousticness",
         "1208"
        ],
        [
         "instrumentalness",
         "772"
        ],
        [
         "liveness",
         "783"
        ],
        [
         "valence",
         "760"
        ],
        [
         "tempo",
         "1831"
        ],
        [
         "genre",
         "59"
        ]
       ],
       "shape": {
        "columns": 1,
        "rows": 18
       }
      },
      "text/plain": [
       "artist               835\n",
       "song                1879\n",
       "duration_ms         1793\n",
       "explicit               2\n",
       "year                  23\n",
       "popularity            76\n",
       "danceability         565\n",
       "energy               580\n",
       "key                   12\n",
       "loudness            1671\n",
       "mode                   2\n",
       "speechiness          837\n",
       "acousticness        1208\n",
       "instrumentalness     772\n",
       "liveness             783\n",
       "valence              760\n",
       "tempo               1831\n",
       "genre                 59\n",
       "dtype: int64"
      ]
     },
     "execution_count": 5,
     "metadata": {},
     "output_type": "execute_result"
    }
   ],
   "source": [
    "dataframe_filtered.nunique() # Unique values"
   ]
  },
  {
   "cell_type": "code",
   "execution_count": 6,
   "id": "caf25272",
   "metadata": {},
   "outputs": [
    {
     "name": "stdout",
     "output_type": "stream",
     "text": [
      "59\n"
     ]
    }
   ],
   "source": [
    "print(dataframe_filtered['genre'].nunique())  # There are 59 unique genres"
   ]
  },
  {
   "cell_type": "code",
   "execution_count": 7,
   "id": "8f952ec1",
   "metadata": {},
   "outputs": [],
   "source": [
    "dataframe_filtered = dataframe_filtered.copy()  # Work with a copy\n",
    "\n",
    "dataframe_filtered.loc[:, 'genre'] = dataframe_filtered['genre'].replace('set()', 'Unknown')\n",
    "dataframe_filtered.loc[:, 'new_genre'] = dataframe_filtered['genre'].apply(lambda x: x.split(',')[0].strip())"
   ]
  },
  {
   "cell_type": "code",
   "execution_count": 8,
   "id": "bc24eed4",
   "metadata": {},
   "outputs": [
    {
     "name": "stdout",
     "output_type": "stream",
     "text": [
      "                 genre new_genre\n",
      "0                  pop       pop\n",
      "1            rock, pop      rock\n",
      "2         pop, country       pop\n",
      "3          rock, metal      rock\n",
      "4                  pop       pop\n",
      "...                ...       ...\n",
      "1995               pop       pop\n",
      "1996               pop       pop\n",
      "1997  hip hop, country   hip hop\n",
      "1998               pop       pop\n",
      "1999           hip hop   hip hop\n",
      "\n",
      "[1941 rows x 2 columns]\n"
     ]
    }
   ],
   "source": [
    "print(dataframe_filtered[['genre', 'new_genre']])"
   ]
  },
  {
   "cell_type": "code",
   "execution_count": 9,
   "id": "120e5ce9",
   "metadata": {},
   "outputs": [
    {
     "name": "stdout",
     "output_type": "stream",
     "text": [
      "12\n",
      "new_genre\n",
      "pop                  912\n",
      "hip hop              749\n",
      "rock                 155\n",
      "Dance/Electronic      41\n",
      "Unknown               22\n",
      "latin                 15\n",
      "R&B                   13\n",
      "World/Traditional     10\n",
      "country               10\n",
      "metal                  9\n",
      "Folk/Acoustic          4\n",
      "easy listening         1\n",
      "Name: count, dtype: int64\n"
     ]
    }
   ],
   "source": [
    "print(dataframe_filtered['new_genre'].nunique())\n",
    "print(dataframe_filtered['new_genre'].value_counts())"
   ]
  },
  {
   "cell_type": "code",
   "execution_count": 10,
   "id": "a151210b",
   "metadata": {},
   "outputs": [],
   "source": [
    "# Keywords to identify edited and featured versions\n",
    "edited_keywords = [\"Radio\", \"Version\", \"Remix\", \"Mix\", \"Remaster\", \"(Personal)\", \"(Interlude)\", \"Explicit\", \"Video\", \"Edit\", \"*\", \"from\", \"Official\"]\n",
    "feature_keywords = [\"feat\", \"with\", \"Featuring\", \"Feat\", \"&\", \"Vs\", \" X\"]"
   ]
  },
  {
   "cell_type": "code",
   "execution_count": 11,
   "id": "aa73ec30",
   "metadata": {},
   "outputs": [],
   "source": [
    "dataframe_filtered['is_edited'] = dataframe_filtered['song'].apply(lambda x: any(keyword.lower() in str(x).lower() for keyword in edited_keywords))\n",
    "dataframe_filtered['is_featured'] = dataframe_filtered['song'].apply(lambda x: any(keyword.lower() in str(x).lower() for keyword in feature_keywords))"
   ]
  },
  {
   "cell_type": "code",
   "execution_count": 12,
   "id": "2ef547b7",
   "metadata": {},
   "outputs": [],
   "source": [
    "# Convert explicit to boolean\n",
    "dataframe_filtered.loc[:, 'explicit'] = dataframe_filtered['explicit'].astype(str).str.upper().map({'TRUE': True, '1': True, 'FALSE': False, '0': False})"
   ]
  },
  {
   "cell_type": "code",
   "execution_count": 13,
   "id": "448c91e3",
   "metadata": {},
   "outputs": [],
   "source": [
    "# Remove popularity scores of zero which is a missing data point\n",
    "dataframe_filtered = dataframe_filtered.loc[dataframe_filtered['popularity'] != 0]"
   ]
  },
  {
   "cell_type": "code",
   "execution_count": 14,
   "id": "090588ca",
   "metadata": {},
   "outputs": [
    {
     "data": {
      "text/plain": [
       "1815"
      ]
     },
     "execution_count": 14,
     "metadata": {},
     "output_type": "execute_result"
    }
   ],
   "source": [
    "len(dataframe_filtered) # There a 1815 rows of remaining data"
   ]
  },
  {
   "cell_type": "code",
   "execution_count": 15,
   "id": "2222b0e4",
   "metadata": {},
   "outputs": [
    {
     "name": "stdout",
     "output_type": "stream",
     "text": [
      "Number of featured songs: 337\n",
      "Number of featured songs: 165\n"
     ]
    }
   ],
   "source": [
    "count_featured = dataframe_filtered['is_featured'].sum()\n",
    "print(f\"Number of featured songs: {count_featured}\")\n",
    "\n",
    "count_edited = dataframe_filtered['is_edited'].sum()\n",
    "print(f\"Number of featured songs: {count_edited}\")"
   ]
  },
  {
   "cell_type": "markdown",
   "id": "068914a1",
   "metadata": {},
   "source": [
    "#### Initialize Application"
   ]
  },
  {
   "cell_type": "code",
   "execution_count": 16,
   "id": "4e72ae9a",
   "metadata": {},
   "outputs": [],
   "source": [
    "# Initialize the app\n",
    "app = dash.Dash(__name__)\n",
    "app.title = \"Application\""
   ]
  },
  {
   "cell_type": "markdown",
   "id": "7d431ef0",
   "metadata": {},
   "source": [
    "#### App Layout"
   ]
  },
  {
   "cell_type": "code",
   "execution_count": 17,
   "id": "ec73b4d3",
   "metadata": {},
   "outputs": [],
   "source": [
    "app.layout = html.Div([\n",
    "    html.H1(\"Spotify Analysis of Top Songs from 1998 to 2020\"), # Define the heading \n",
    "    \n",
    "    html.Div([html.Label(\"Years to Analyze :\"), dcc.RangeSlider(id = 'input_years', min = 1998, max = 2020, step = 1, value = [1998, 2020], marks = {year: str(year) for year in range( 1998, 2021, 1)}), # Input years\n",
    "              html.Label(\"Select a Specific Genre to Analyze : \"), dcc.Dropdown(id = 'input_genre', options = [{'label': genre_1, 'value': genre_1} for genre_1 in sorted(dataframe_filtered['new_genre'].dropna().unique())], multi = True, value = 'hip hop'), # Select genre\n",
    "        html.Label(\"Choose Popularity Level [From 1 to 89] NOTHING ELSE. Songs with a popularity of Greater than or equal to this will be shown : \"), dcc.Input(id = 'input_popularity', type = 'number', value = 10, min = 1, max = 89), # Select Popularity Level\n",
    "        html.Div(\"Choose Explicit on or Off\"), dcc.RadioItems(id = 'input_explicit', options = [{'label': 'All Songs', 'value': 'all'}, {'label': 'Profane Songs', 'value': 'explicit_yes'}, {'label': 'Non Profane Songs', 'value': 'explicit_none'}], value = 'all', inline = True)], style = {'padding': 10}),# Select a whether to have explicit content or not\n",
    "    dcc.Graph(id='genre_pie_chart_id'), dcc.Graph(id = 'song_per_year_id'), dcc.Graph(id = 'popularity_histogram_id'), dcc.Graph(id = 'popularity_heatmap_id'), dcc.Graph(id = 'edited_vs_regular_id'), dcc.Graph(id = 'featured_vs_nonfeatured_id'), dcc.Graph(id = 'explicit_trend_id'), dcc.Graph(id = 'hover_data_id')])"
   ]
  },
  {
   "cell_type": "code",
   "execution_count": 18,
   "id": "7361d6b0",
   "metadata": {},
   "outputs": [],
   "source": [
    "global_variable_1 = 0 # Use a global variable to store the updated dataframe"
   ]
  },
  {
   "cell_type": "markdown",
   "id": "9c72c868",
   "metadata": {},
   "source": [
    "#### Function to Update Graphs with callback"
   ]
  },
  {
   "cell_type": "code",
   "execution_count": 19,
   "id": "ee717c96",
   "metadata": {},
   "outputs": [],
   "source": [
    "@app.callback([Output('genre_pie_chart_id', 'figure'), Output('song_per_year_id', 'figure'), Output('popularity_histogram_id', 'figure'), Output('popularity_heatmap_id', 'figure'), Output('edited_vs_regular_id', 'figure'), Output('featured_vs_nonfeatured_id', 'figure'), Output('explicit_trend_id', 'figure')], [Input('input_years', 'value'), Input('input_genre', 'value'), Input('input_popularity', 'value'), Input('input_explicit', 'value')]) # Link output graphs to input filters\n",
    "def my_function(year_input_1, genre_input, popularity_input, explicit_input): # Function with given input\n",
    "\n",
    "    dataframe_filtered_new = dataframe_filtered[(dataframe_filtered['year'] >= year_input_1[0]) & (dataframe_filtered['year'] <= year_input_1[1])] # Keeps year values within these ranges\n",
    "    if genre_input: # When a genre is input\n",
    "        if isinstance(genre_input, list):  # Check if genre_input is a list\n",
    "            dataframe_filtered_new = dataframe_filtered_new[dataframe_filtered_new['genre'].isin(genre_input)]\n",
    "        elif isinstance(genre_input, str):  # Check if it's a single string\n",
    "            dataframe_filtered_new = dataframe_filtered_new[dataframe_filtered_new['genre'] == genre_input]# Check whether input is a string existing in the dataframe\n",
    "    dataframe_filtered_new = dataframe_filtered_new[dataframe_filtered_new['popularity'] >= popularity_input] # Filters the frame with the given popularity or greater than it\n",
    "    if explicit_input == 'explicit_yes': # When explicity is switched on\n",
    "        dataframe_filtered_new = dataframe_filtered_new[dataframe_filtered_new['explicit'] == True] # Takes only explicit songs\n",
    "    elif explicit_input == 'explicit_none': # When explicity is switched off\n",
    "        dataframe_filtered_new = dataframe_filtered_new[dataframe_filtered_new['explicit'] == False] # Takes only non explicit songs\n",
    "    else: # When the user does not have a preferance of profanity\n",
    "        dataframe_filtered_new = dataframe_filtered_new[dataframe_filtered_new['explicit'].isin([True, False])] # Considers when both profane and non profane songs\n",
    "\n",
    "    genre_counts_1 = dataframe_filtered_new['genre'].value_counts().reset_index() # Count number of songs per genre\n",
    "    genre_counts_1.columns = ['genre', 'count']  # Change names of columns\n",
    "\n",
    "    figure_pie_chart = px.pie(genre_counts_1, names = 'genre', values = 'count', title = \"Plotly Pie chart representing the Distribution of Song Genres in Selected Years\") # Creates a pie chart\n",
    "\n",
    "    song_variable_1 = dataframe_filtered_new.groupby('year').size().reset_index(name = 'count') # The data is grouped according to year and count\n",
    "    figure_songs_per_year = px.bar(song_variable_1, x = 'year', y = 'count', title = \"Plotly bar chart of Number of Songs Released Per Year\") # Creates a bar chart\n",
    "\n",
    "    figure_histogram = px.histogram(dataframe_filtered_new, x = 'popularity', title = \"Plotly Histogram plot of Popularity Distribution of Songs\") # Let plotly decide the number of bins\n",
    "\n",
    "    figure_heatmap = px.density_heatmap(dataframe_filtered_new, x = 'year', y = 'popularity', z = 'popularity',  title = \"Plotly Heat map of Popularity of Songs accross years\", color_continuous_scale = \"Blues\")\n",
    "\n",
    "    a = dataframe_filtered_new['is_edited'].sum()\n",
    "    b = f\"Number of songs that have a Remix or Another Version : {a}\"\n",
    "    c = len(dataframe_filtered_new)\n",
    "    d = f\"Total Length of dataframe under these conditions : {c}\"\n",
    "    # Plotly box plot of Popularity of Song which are edited\n",
    "    figure_edited_not_edited = px.box(data_frame = dataframe_filtered_new, x = 'is_edited', y = 'popularity', labels = {'is_edited': f'{b} \\n {d}'}, title = 'Plotly Box Plot of Popularity of Edited Songs vs Non Edited Songs Eg - \"Remix\", \"Mix\", \"Remaster\"') \n",
    "\n",
    "    e = dataframe_filtered_new['is_featured'].sum()\n",
    "    f_1 = f\"Number of songs that have a Featuring Artist : {e}\"\n",
    "    g = len(dataframe_filtered_new)\n",
    "    h = f\"Total Length of dataframe under these conditions: {g}\"\n",
    "    # Plotly box plot of Popularity of Song with featured artists\n",
    "    figure_featured_non_feautured = px.box(data_frame = dataframe_filtered_new, x = 'is_featured', y = 'popularity', labels = {'is_featured': f'{f_1} \\n {h}'}, title = 'Plotly Box Plot of Popularity of Songs with a Feautured Artist Eg - \"feat\", \"with\", \"Featuring\", \"&\"')\n",
    "\n",
    "    # Popularity of Explicit vs. Non Explicit songs\n",
    "    dataframe_filtered_new_new = dataframe_filtered_new.copy()\n",
    "    i = dataframe_filtered_new['explicit'].sum()\n",
    "    j = f\"NUMBER OF PROFANE SONGS : {i}\"    \n",
    "    k = len(dataframe_filtered_new) - i\n",
    "    l = f\"NUMBER OF NON PROFANE SONGS : {k}\"\n",
    "    dataframe_filtered_new_new['Explicit'] = dataframe_filtered_new_new['explicit'].map({True: 'Explicit', False: 'Non-Explicit'}) # Convert to a easily readable format\n",
    "    figure_explcit_non_explicit = px.line(dataframe_filtered_new_new.groupby(['year', 'Explicit'])['popularity'].mean().reset_index(), x = 'year', y = 'popularity', color = 'Explicit', markers = True, title = f'Plotly Scatter Plot of Profane vs Non-Profance Songs Popularity over the years {j}, {l}')\n",
    "    \n",
    "    global global_variable_1 \n",
    "    global_variable_1 = dataframe_filtered_new_new\n",
    "\n",
    "    return figure_pie_chart, figure_songs_per_year, figure_histogram, figure_heatmap, figure_edited_not_edited, figure_featured_non_feautured, figure_explcit_non_explicit # Return the figures\n"
   ]
  },
  {
   "cell_type": "markdown",
   "id": "34136169",
   "metadata": {},
   "source": [
    "#### Function with a hover definition"
   ]
  },
  {
   "cell_type": "code",
   "execution_count": 20,
   "id": "a7b1c9c2",
   "metadata": {},
   "outputs": [],
   "source": [
    "@app.callback(Output(\"hover_data_id\", \"figure\"), Input(\"explicit_trend_id\", \"hoverData\"))\n",
    "def update_hover_plot(hover_data_input):\n",
    "\n",
    "    if hover_data_input is None:\n",
    "        return px.scatter(title = \"Hover over a data point to see details in the above graph Profane vs. Non Profane Songs Popularity\")\n",
    "    \n",
    "    if \"points\" not in hover_data_input:\n",
    "        return px.scatter(title = \"Hover over a data point to see details in the above graph Profane vs. Non Profane Songs Popularity\")\n",
    "\n",
    "    global global_variable_1\n",
    "    year_data = hover_data_input['points'][0]['x']  # Gets the year to the x variable\n",
    "    dataframe_filtered_new_1 = global_variable_1[global_variable_1['year'] == year_data] # Gets data with given year\n",
    "\n",
    "    figure_bar_chart_hover_1 = px.bar(data_frame = dataframe_filtered_new_1, x = 'duration_ms', y = 'popularity', color = 'explicit', title = f\"Plotly Bar Chart of Duration (in milliseconds) of a single song vs. Popularity over the years color coded by Profanity in the year : {year_data}\") # Creates a bar chart\n",
    "\n",
    "    return figure_bar_chart_hover_1"
   ]
  },
  {
   "cell_type": "markdown",
   "id": "1991abfb",
   "metadata": {},
   "source": [
    "#### Run the dash application on a specific port"
   ]
  },
  {
   "cell_type": "code",
   "execution_count": 21,
   "id": "4c8fab07",
   "metadata": {},
   "outputs": [
    {
     "data": {
      "text/html": [
       "\n",
       "        <iframe\n",
       "            width=\"100%\"\n",
       "            height=\"650\"\n",
       "            src=\"http://127.0.0.1:8054/\"\n",
       "            frameborder=\"0\"\n",
       "            allowfullscreen\n",
       "            \n",
       "        ></iframe>\n",
       "        "
      ],
      "text/plain": [
       "<IPython.lib.display.IFrame at 0x20afc741c10>"
      ]
     },
     "metadata": {},
     "output_type": "display_data"
    }
   ],
   "source": [
    "if __name__ == '__main__': # Run when run as the main program\n",
    "    app.run(debug = True, port = 8054)  # Run on Port 8054"
   ]
  }
 ],
 "metadata": {
  "kernelspec": {
   "display_name": "base",
   "language": "python",
   "name": "python3"
  },
  "language_info": {
   "codemirror_mode": {
    "name": "ipython",
    "version": 3
   },
   "file_extension": ".py",
   "mimetype": "text/x-python",
   "name": "python",
   "nbconvert_exporter": "python",
   "pygments_lexer": "ipython3",
   "version": "3.12.7"
  }
 },
 "nbformat": 4,
 "nbformat_minor": 5
}
