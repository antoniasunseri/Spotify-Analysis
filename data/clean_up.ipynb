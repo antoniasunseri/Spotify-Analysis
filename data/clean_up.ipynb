{
 "cells": [
  {
   "cell_type": "code",
   "execution_count": 1,
   "id": "22a24d54",
   "metadata": {},
   "outputs": [],
   "source": [
    "# Import Statements\n",
    "import pandas as pd\n",
    "import dash\n",
    "from dash import dcc, html, Input, Output\n",
    "import plotly.express as px"
   ]
  },
  {
   "cell_type": "code",
   "execution_count": 2,
   "id": "b17dad88",
   "metadata": {},
   "outputs": [],
   "source": [
    "# Load and preprocess the dataset\n",
    "dataframe_1 = pd.read_csv('songs_normalize.csv')"
   ]
  },
  {
   "cell_type": "code",
   "execution_count": 3,
   "id": "cf9fabb1",
   "metadata": {},
   "outputs": [],
   "source": [
    "dataframe_filtered = dataframe_1.drop_duplicates() # Drop the 59 Duplicate rows"
   ]
  },
  {
   "cell_type": "code",
   "execution_count": 4,
   "id": "22efbf39",
   "metadata": {},
   "outputs": [
    {
     "name": "stdout",
     "output_type": "stream",
     "text": [
      "artist               object\n",
      "song                 object\n",
      "duration_ms           int64\n",
      "explicit               bool\n",
      "year                  int64\n",
      "popularity            int64\n",
      "danceability        float64\n",
      "energy              float64\n",
      "key                   int64\n",
      "loudness            float64\n",
      "mode                  int64\n",
      "speechiness         float64\n",
      "acousticness        float64\n",
      "instrumentalness    float64\n",
      "liveness            float64\n",
      "valence             float64\n",
      "tempo               float64\n",
      "genre                object\n",
      "dtype: object\n"
     ]
    }
   ],
   "source": [
    "print(dataframe_1.dtypes) # No issue with data types"
   ]
  },
  {
   "cell_type": "code",
   "execution_count": 5,
   "id": "1cb8d0ad",
   "metadata": {},
   "outputs": [
    {
     "data": {
      "application/vnd.microsoft.datawrangler.viewer.v0+json": {
       "columns": [
        {
         "name": "index",
         "rawType": "object",
         "type": "string"
        },
        {
         "name": "0",
         "rawType": "int64",
         "type": "integer"
        }
       ],
       "ref": "dd05f705-14e0-48aa-8412-ed04ce8ac562",
       "rows": [
        [
         "artist",
         "835"
        ],
        [
         "song",
         "1879"
        ],
        [
         "duration_ms",
         "1793"
        ],
        [
         "explicit",
         "2"
        ],
        [
         "year",
         "23"
        ],
        [
         "popularity",
         "76"
        ],
        [
         "danceability",
         "565"
        ],
        [
         "energy",
         "580"
        ],
        [
         "key",
         "12"
        ],
        [
         "loudness",
         "1671"
        ],
        [
         "mode",
         "2"
        ],
        [
         "speechiness",
         "837"
        ],
        [
         "acousticness",
         "1208"
        ],
        [
         "instrumentalness",
         "772"
        ],
        [
         "liveness",
         "783"
        ],
        [
         "valence",
         "760"
        ],
        [
         "tempo",
         "1831"
        ],
        [
         "genre",
         "59"
        ]
       ],
       "shape": {
        "columns": 1,
        "rows": 18
       }
      },
      "text/plain": [
       "artist               835\n",
       "song                1879\n",
       "duration_ms         1793\n",
       "explicit               2\n",
       "year                  23\n",
       "popularity            76\n",
       "danceability         565\n",
       "energy               580\n",
       "key                   12\n",
       "loudness            1671\n",
       "mode                   2\n",
       "speechiness          837\n",
       "acousticness        1208\n",
       "instrumentalness     772\n",
       "liveness             783\n",
       "valence              760\n",
       "tempo               1831\n",
       "genre                 59\n",
       "dtype: int64"
      ]
     },
     "execution_count": 5,
     "metadata": {},
     "output_type": "execute_result"
    }
   ],
   "source": [
    "dataframe_filtered.nunique() # Unique values"
   ]
  },
  {
   "cell_type": "code",
   "execution_count": 6,
   "id": "caf25272",
   "metadata": {},
   "outputs": [
    {
     "name": "stdout",
     "output_type": "stream",
     "text": [
      "59\n"
     ]
    }
   ],
   "source": [
    "print(dataframe_filtered['genre'].nunique())  # There are 59 unique genres"
   ]
  },
  {
   "cell_type": "code",
   "execution_count": 7,
   "id": "8f952ec1",
   "metadata": {},
   "outputs": [],
   "source": [
    "dataframe_filtered = dataframe_filtered.copy()  # Work with a copy\n",
    "\n",
    "dataframe_filtered.loc[:, 'genre'] = dataframe_filtered['genre'].replace('set()', 'Unknown')\n",
    "dataframe_filtered.loc[:, 'new_genre'] = dataframe_filtered['genre'].apply(lambda x: x.split(',')[0].strip())"
   ]
  },
  {
   "cell_type": "code",
   "execution_count": 8,
   "id": "bc24eed4",
   "metadata": {},
   "outputs": [
    {
     "name": "stdout",
     "output_type": "stream",
     "text": [
      "                 genre new_genre\n",
      "0                  pop       pop\n",
      "1            rock, pop      rock\n",
      "2         pop, country       pop\n",
      "3          rock, metal      rock\n",
      "4                  pop       pop\n",
      "...                ...       ...\n",
      "1995               pop       pop\n",
      "1996               pop       pop\n",
      "1997  hip hop, country   hip hop\n",
      "1998               pop       pop\n",
      "1999           hip hop   hip hop\n",
      "\n",
      "[1941 rows x 2 columns]\n"
     ]
    }
   ],
   "source": [
    "print(dataframe_filtered[['genre', 'new_genre']])"
   ]
  },
  {
   "cell_type": "code",
   "execution_count": 9,
   "id": "120e5ce9",
   "metadata": {},
   "outputs": [
    {
     "name": "stdout",
     "output_type": "stream",
     "text": [
      "12\n",
      "new_genre\n",
      "pop                  912\n",
      "hip hop              749\n",
      "rock                 155\n",
      "Dance/Electronic      41\n",
      "Unknown               22\n",
      "latin                 15\n",
      "R&B                   13\n",
      "World/Traditional     10\n",
      "country               10\n",
      "metal                  9\n",
      "Folk/Acoustic          4\n",
      "easy listening         1\n",
      "Name: count, dtype: int64\n"
     ]
    }
   ],
   "source": [
    "print(dataframe_filtered['new_genre'].nunique())\n",
    "print(dataframe_filtered['new_genre'].value_counts())"
   ]
  },
  {
   "cell_type": "code",
   "execution_count": 10,
   "id": "a151210b",
   "metadata": {},
   "outputs": [],
   "source": [
    "# Keywords to identify edited and featured versions\n",
    "edited_keywords = [\"Radio\", \"Version\", \"Remix\", \"Mix\", \"Remaster\", \"(Personal)\", \"(Interlude)\", \"Explicit\", \"Video\", \"Edit\", \"*\", \"from\", \"Official\"]\n",
    "feature_keywords = [\"feat\", \"with\", \"Featuring\", \"Feat\", \"&\", \"Vs\", \" X\"]"
   ]
  },
  {
   "cell_type": "code",
   "execution_count": 11,
   "id": "aa73ec30",
   "metadata": {},
   "outputs": [],
   "source": [
    "dataframe_filtered['is_edited'] = dataframe_filtered['song'].apply(lambda x: any(keyword.lower() in str(x).lower() for keyword in edited_keywords))\n",
    "dataframe_filtered['is_featured'] = dataframe_filtered['song'].apply(lambda x: any(keyword.lower() in str(x).lower() for keyword in feature_keywords))"
   ]
  },
  {
   "cell_type": "code",
   "execution_count": 12,
   "id": "2ef547b7",
   "metadata": {},
   "outputs": [],
   "source": [
    "# Convert explicit to boolean\n",
    "dataframe_filtered.loc[:, 'explicit'] = dataframe_filtered['explicit'].astype(str).str.upper().map({'TRUE': True, '1': True, 'FALSE': False, '0': False})"
   ]
  },
  {
   "cell_type": "code",
   "execution_count": 13,
   "id": "448c91e3",
   "metadata": {},
   "outputs": [],
   "source": [
    "# Remove popularity scores of zero which is a missing data point\n",
    "dataframe_filtered = dataframe_filtered.loc[dataframe_filtered['popularity'] != 0]"
   ]
  },
  {
   "cell_type": "code",
   "execution_count": 14,
   "id": "090588ca",
   "metadata": {},
   "outputs": [
    {
     "data": {
      "text/plain": [
       "1815"
      ]
     },
     "execution_count": 14,
     "metadata": {},
     "output_type": "execute_result"
    }
   ],
   "source": [
    "len(dataframe_filtered) # There a 1815 rows of remaining data"
   ]
  },
  {
   "cell_type": "code",
   "execution_count": 15,
   "id": "2222b0e4",
   "metadata": {},
   "outputs": [
    {
     "name": "stdout",
     "output_type": "stream",
     "text": [
      "Number of featured songs: 337\n",
      "Number of featured songs: 165\n"
     ]
    }
   ],
   "source": [
    "count_featured = dataframe_filtered['is_featured'].sum()\n",
    "print(f\"Number of featured songs: {count_featured}\")\n",
    "\n",
    "count_edited = dataframe_filtered['is_edited'].sum()\n",
    "print(f\"Number of featured songs: {count_edited}\")"
   ]
  },
  {
   "cell_type": "code",
   "execution_count": 16,
   "id": "574dce26",
   "metadata": {},
   "outputs": [],
   "source": [
    "# Write to a csv file\n",
    "dataframe_filtered.to_csv('filtered_data.csv', index=False)"
   ]
  }
 ],
 "metadata": {
  "kernelspec": {
   "display_name": "base",
   "language": "python",
   "name": "python3"
  },
  "language_info": {
   "codemirror_mode": {
    "name": "ipython",
    "version": 3
   },
   "file_extension": ".py",
   "mimetype": "text/x-python",
   "name": "python",
   "nbconvert_exporter": "python",
   "pygments_lexer": "ipython3",
   "version": "3.12.7"
  }
 },
 "nbformat": 4,
 "nbformat_minor": 5
}
