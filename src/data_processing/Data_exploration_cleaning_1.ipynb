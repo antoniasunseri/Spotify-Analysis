{
 "cells": [
  {
   "cell_type": "markdown",
   "id": "1f8ae2d3",
   "metadata": {},
   "source": [
    "## **Data Exploration and Cleaning**"
   ]
  },
  {
   "cell_type": "code",
   "execution_count": 1,
   "id": "7c97b424",
   "metadata": {},
   "outputs": [],
   "source": [
    "# Importing packages \n",
    "import numpy as np\n",
    "import pandas as pd\n",
    "import plotly.express as px\n",
    "import matplotlib.pyplot as plt\n",
    "import seaborn as sns"
   ]
  },
  {
   "cell_type": "code",
   "execution_count": 2,
   "id": "7a13e985",
   "metadata": {},
   "outputs": [
    {
     "name": "stdout",
     "output_type": "stream",
     "text": [
      "Index(['artist', 'song', 'duration_ms', 'explicit', 'year', 'popularity',\n",
      "       'danceability', 'energy', 'key', 'loudness', 'mode', 'speechiness',\n",
      "       'acousticness', 'instrumentalness', 'liveness', 'valence', 'tempo',\n",
      "       'genre'],\n",
      "      dtype='object')\n"
     ]
    },
    {
     "data": {
      "application/vnd.microsoft.datawrangler.viewer.v0+json": {
       "columns": [
        {
         "name": "index",
         "rawType": "object",
         "type": "string"
        },
        {
         "name": "0",
         "rawType": "int64",
         "type": "integer"
        }
       ],
       "ref": "d3695fab-4864-4cc8-8cc3-643e45ea57ca",
       "rows": [
        [
         "artist",
         "0"
        ],
        [
         "song",
         "0"
        ],
        [
         "tempo",
         "0"
        ],
        [
         "valence",
         "0"
        ],
        [
         "liveness",
         "0"
        ],
        [
         "instrumentalness",
         "0"
        ],
        [
         "acousticness",
         "0"
        ],
        [
         "speechiness",
         "0"
        ],
        [
         "mode",
         "0"
        ],
        [
         "loudness",
         "0"
        ],
        [
         "key",
         "0"
        ],
        [
         "energy",
         "0"
        ],
        [
         "danceability",
         "0"
        ],
        [
         "popularity",
         "0"
        ],
        [
         "year",
         "0"
        ],
        [
         "explicit",
         "0"
        ],
        [
         "duration_ms",
         "0"
        ],
        [
         "genre",
         "0"
        ]
       ],
       "shape": {
        "columns": 1,
        "rows": 18
       }
      },
      "text/plain": [
       "artist              0\n",
       "song                0\n",
       "tempo               0\n",
       "valence             0\n",
       "liveness            0\n",
       "instrumentalness    0\n",
       "acousticness        0\n",
       "speechiness         0\n",
       "mode                0\n",
       "loudness            0\n",
       "key                 0\n",
       "energy              0\n",
       "danceability        0\n",
       "popularity          0\n",
       "year                0\n",
       "explicit            0\n",
       "duration_ms         0\n",
       "genre               0\n",
       "dtype: int64"
      ]
     },
     "execution_count": 2,
     "metadata": {},
     "output_type": "execute_result"
    }
   ],
   "source": [
    "df= pd.read_csv('songs_normalize.csv')\n",
    "\n",
    "# List columnn names\n",
    "print(df.columns) # 18 fields\n",
    "\n",
    "# Checking for missing values \n",
    "df.isnull().sum().sort_values(ascending=False)"
   ]
  },
  {
   "cell_type": "markdown",
   "id": "8dc7be91",
   "metadata": {},
   "source": [
    "No missing values were present in the dataset. Therefore, there is no need for imputing missing values. "
   ]
  },
  {
   "cell_type": "code",
   "execution_count": 3,
   "id": "12558b6f",
   "metadata": {},
   "outputs": [
    {
     "data": {
      "text/plain": [
       "2000"
      ]
     },
     "execution_count": 3,
     "metadata": {},
     "output_type": "execute_result"
    }
   ],
   "source": [
    "# Number of rows\n",
    "len(df) # 2,000 observations present in our dataset "
   ]
  },
  {
   "cell_type": "code",
   "execution_count": 4,
   "id": "f0bb5761",
   "metadata": {},
   "outputs": [
    {
     "name": "stdout",
     "output_type": "stream",
     "text": [
      "59\n"
     ]
    }
   ],
   "source": [
    "# Removing duplciate rows\n",
    "dataframe_filtered = df.drop_duplicates()\n",
    "duplicate_rows = len(df) - (len(dataframe_filtered)) \n",
    "print(duplicate_rows)"
   ]
  },
  {
   "cell_type": "markdown",
   "id": "675fb0d6",
   "metadata": {},
   "source": [
    "59 duplicated rows are present. If there is a machine learning algorithm applied these rows could skew the results and introduce potential bias. "
   ]
  },
  {
   "cell_type": "code",
   "execution_count": 5,
   "id": "53a6dc95",
   "metadata": {},
   "outputs": [
    {
     "name": "stdout",
     "output_type": "stream",
     "text": [
      "artist               object\n",
      "song                 object\n",
      "duration_ms           int64\n",
      "explicit               bool\n",
      "year                  int64\n",
      "popularity            int64\n",
      "danceability        float64\n",
      "energy              float64\n",
      "key                   int64\n",
      "loudness            float64\n",
      "mode                  int64\n",
      "speechiness         float64\n",
      "acousticness        float64\n",
      "instrumentalness    float64\n",
      "liveness            float64\n",
      "valence             float64\n",
      "tempo               float64\n",
      "genre                object\n",
      "dtype: object\n"
     ]
    }
   ],
   "source": [
    "# skim through the data\n",
    "#for column in dataframe_1.columns:\n",
    " #   print(f\"\\nColumn: {column}\")\n",
    "  #  print(dataframe_1[column].unique())\n",
    "\n",
    "# First 6 rows\n",
    "dataframe_filtered.head()\n",
    "\n",
    "print(df.dtypes)"
   ]
  },
  {
   "cell_type": "markdown",
   "id": "6183bf3e",
   "metadata": {},
   "source": [
    "There seems to be no issue with the data types in the data frame as they seem to match exactly with the data types for each column."
   ]
  },
  {
   "cell_type": "code",
   "execution_count": 6,
   "id": "eda4fd94",
   "metadata": {},
   "outputs": [
    {
     "data": {
      "application/vnd.microsoft.datawrangler.viewer.v0+json": {
       "columns": [
        {
         "name": "index",
         "rawType": "object",
         "type": "string"
        },
        {
         "name": "duration_ms",
         "rawType": "float64",
         "type": "float"
        },
        {
         "name": "year",
         "rawType": "float64",
         "type": "float"
        },
        {
         "name": "popularity",
         "rawType": "float64",
         "type": "float"
        },
        {
         "name": "danceability",
         "rawType": "float64",
         "type": "float"
        },
        {
         "name": "energy",
         "rawType": "float64",
         "type": "float"
        },
        {
         "name": "key",
         "rawType": "float64",
         "type": "float"
        },
        {
         "name": "loudness",
         "rawType": "float64",
         "type": "float"
        },
        {
         "name": "mode",
         "rawType": "float64",
         "type": "float"
        },
        {
         "name": "speechiness",
         "rawType": "float64",
         "type": "float"
        },
        {
         "name": "acousticness",
         "rawType": "float64",
         "type": "float"
        },
        {
         "name": "instrumentalness",
         "rawType": "float64",
         "type": "float"
        },
        {
         "name": "liveness",
         "rawType": "float64",
         "type": "float"
        },
        {
         "name": "valence",
         "rawType": "float64",
         "type": "float"
        },
        {
         "name": "tempo",
         "rawType": "float64",
         "type": "float"
        }
       ],
       "ref": "c9a815d4-0f97-45d3-adf5-78f3e457e1af",
       "rows": [
        [
         "count",
         "1941.0",
         "1941.0",
         "1941.0",
         "1941.0",
         "1941.0",
         "1941.0",
         "1941.0",
         "1941.0",
         "1941.0",
         "1941.0",
         "1941.0",
         "1941.0",
         "1941.0",
         "1941.0"
        ],
        [
         "mean",
         "228594.97372488407",
         "2009.520350334879",
         "59.63317877382792",
         "0.6678140133951572",
         "0.7215486862442041",
         "5.369397217928903",
         "-5.5140824317362185",
         "0.5533230293663061",
         "0.10378258629572386",
         "0.12817264961360122",
         "0.01537247549716641",
         "0.18172632663575478",
         "0.5529661514683153",
         "120.15844204018548"
        ],
        [
         "std",
         "39249.79610275796",
         "5.87553227076758",
         "21.50105275877325",
         "0.14060827698290318",
         "0.15287161797415494",
         "3.615269891590929",
         "1.9389504580490216",
         "0.497276638176974",
         "0.09614783787238508",
         "0.17258382155206117",
         "0.088371370280087",
         "0.14090954026789596",
         "0.220845381941349",
         "26.990474537742756"
        ],
        [
         "min",
         "113000.0",
         "1998.0",
         "0.0",
         "0.129",
         "0.0549",
         "0.0",
         "-20.514",
         "0.0",
         "0.0232",
         "1.92e-05",
         "0.0",
         "0.0215",
         "0.0381",
         "60.019"
        ],
        [
         "25%",
         "203506.0",
         "2004.0",
         "56.0",
         "0.581",
         "0.624",
         "2.0",
         "-6.49",
         "0.0",
         "0.0397",
         "0.0135",
         "0.0",
         "0.0884",
         "0.39",
         "98.986"
        ],
        [
         "50%",
         "223186.0",
         "2010.0",
         "65.0",
         "0.676",
         "0.739",
         "6.0",
         "-5.285",
         "1.0",
         "0.061",
         "0.0558",
         "0.0",
         "0.124",
         "0.56",
         "120.028"
        ],
        [
         "75%",
         "247946.0",
         "2015.0",
         "73.0",
         "0.765",
         "0.84",
         "8.0",
         "-4.168",
         "1.0",
         "0.129",
         "0.176",
         "6.92e-05",
         "0.242",
         "0.731",
         "134.199"
        ],
        [
         "max",
         "484146.0",
         "2020.0",
         "89.0",
         "0.975",
         "0.999",
         "11.0",
         "-0.276",
         "1.0",
         "0.576",
         "0.976",
         "0.985",
         "0.853",
         "0.973",
         "210.851"
        ]
       ],
       "shape": {
        "columns": 14,
        "rows": 8
       }
      },
      "text/html": [
       "<div>\n",
       "<style scoped>\n",
       "    .dataframe tbody tr th:only-of-type {\n",
       "        vertical-align: middle;\n",
       "    }\n",
       "\n",
       "    .dataframe tbody tr th {\n",
       "        vertical-align: top;\n",
       "    }\n",
       "\n",
       "    .dataframe thead th {\n",
       "        text-align: right;\n",
       "    }\n",
       "</style>\n",
       "<table border=\"1\" class=\"dataframe\">\n",
       "  <thead>\n",
       "    <tr style=\"text-align: right;\">\n",
       "      <th></th>\n",
       "      <th>duration_ms</th>\n",
       "      <th>year</th>\n",
       "      <th>popularity</th>\n",
       "      <th>danceability</th>\n",
       "      <th>energy</th>\n",
       "      <th>key</th>\n",
       "      <th>loudness</th>\n",
       "      <th>mode</th>\n",
       "      <th>speechiness</th>\n",
       "      <th>acousticness</th>\n",
       "      <th>instrumentalness</th>\n",
       "      <th>liveness</th>\n",
       "      <th>valence</th>\n",
       "      <th>tempo</th>\n",
       "    </tr>\n",
       "  </thead>\n",
       "  <tbody>\n",
       "    <tr>\n",
       "      <th>count</th>\n",
       "      <td>1941.000000</td>\n",
       "      <td>1941.000000</td>\n",
       "      <td>1941.000000</td>\n",
       "      <td>1941.000000</td>\n",
       "      <td>1941.000000</td>\n",
       "      <td>1941.000000</td>\n",
       "      <td>1941.000000</td>\n",
       "      <td>1941.000000</td>\n",
       "      <td>1941.000000</td>\n",
       "      <td>1941.000000</td>\n",
       "      <td>1941.000000</td>\n",
       "      <td>1941.000000</td>\n",
       "      <td>1941.000000</td>\n",
       "      <td>1941.000000</td>\n",
       "    </tr>\n",
       "    <tr>\n",
       "      <th>mean</th>\n",
       "      <td>228594.973725</td>\n",
       "      <td>2009.520350</td>\n",
       "      <td>59.633179</td>\n",
       "      <td>0.667814</td>\n",
       "      <td>0.721549</td>\n",
       "      <td>5.369397</td>\n",
       "      <td>-5.514082</td>\n",
       "      <td>0.553323</td>\n",
       "      <td>0.103783</td>\n",
       "      <td>0.128173</td>\n",
       "      <td>0.015372</td>\n",
       "      <td>0.181726</td>\n",
       "      <td>0.552966</td>\n",
       "      <td>120.158442</td>\n",
       "    </tr>\n",
       "    <tr>\n",
       "      <th>std</th>\n",
       "      <td>39249.796103</td>\n",
       "      <td>5.875532</td>\n",
       "      <td>21.501053</td>\n",
       "      <td>0.140608</td>\n",
       "      <td>0.152872</td>\n",
       "      <td>3.615270</td>\n",
       "      <td>1.938950</td>\n",
       "      <td>0.497277</td>\n",
       "      <td>0.096148</td>\n",
       "      <td>0.172584</td>\n",
       "      <td>0.088371</td>\n",
       "      <td>0.140910</td>\n",
       "      <td>0.220845</td>\n",
       "      <td>26.990475</td>\n",
       "    </tr>\n",
       "    <tr>\n",
       "      <th>min</th>\n",
       "      <td>113000.000000</td>\n",
       "      <td>1998.000000</td>\n",
       "      <td>0.000000</td>\n",
       "      <td>0.129000</td>\n",
       "      <td>0.054900</td>\n",
       "      <td>0.000000</td>\n",
       "      <td>-20.514000</td>\n",
       "      <td>0.000000</td>\n",
       "      <td>0.023200</td>\n",
       "      <td>0.000019</td>\n",
       "      <td>0.000000</td>\n",
       "      <td>0.021500</td>\n",
       "      <td>0.038100</td>\n",
       "      <td>60.019000</td>\n",
       "    </tr>\n",
       "    <tr>\n",
       "      <th>25%</th>\n",
       "      <td>203506.000000</td>\n",
       "      <td>2004.000000</td>\n",
       "      <td>56.000000</td>\n",
       "      <td>0.581000</td>\n",
       "      <td>0.624000</td>\n",
       "      <td>2.000000</td>\n",
       "      <td>-6.490000</td>\n",
       "      <td>0.000000</td>\n",
       "      <td>0.039700</td>\n",
       "      <td>0.013500</td>\n",
       "      <td>0.000000</td>\n",
       "      <td>0.088400</td>\n",
       "      <td>0.390000</td>\n",
       "      <td>98.986000</td>\n",
       "    </tr>\n",
       "    <tr>\n",
       "      <th>50%</th>\n",
       "      <td>223186.000000</td>\n",
       "      <td>2010.000000</td>\n",
       "      <td>65.000000</td>\n",
       "      <td>0.676000</td>\n",
       "      <td>0.739000</td>\n",
       "      <td>6.000000</td>\n",
       "      <td>-5.285000</td>\n",
       "      <td>1.000000</td>\n",
       "      <td>0.061000</td>\n",
       "      <td>0.055800</td>\n",
       "      <td>0.000000</td>\n",
       "      <td>0.124000</td>\n",
       "      <td>0.560000</td>\n",
       "      <td>120.028000</td>\n",
       "    </tr>\n",
       "    <tr>\n",
       "      <th>75%</th>\n",
       "      <td>247946.000000</td>\n",
       "      <td>2015.000000</td>\n",
       "      <td>73.000000</td>\n",
       "      <td>0.765000</td>\n",
       "      <td>0.840000</td>\n",
       "      <td>8.000000</td>\n",
       "      <td>-4.168000</td>\n",
       "      <td>1.000000</td>\n",
       "      <td>0.129000</td>\n",
       "      <td>0.176000</td>\n",
       "      <td>0.000069</td>\n",
       "      <td>0.242000</td>\n",
       "      <td>0.731000</td>\n",
       "      <td>134.199000</td>\n",
       "    </tr>\n",
       "    <tr>\n",
       "      <th>max</th>\n",
       "      <td>484146.000000</td>\n",
       "      <td>2020.000000</td>\n",
       "      <td>89.000000</td>\n",
       "      <td>0.975000</td>\n",
       "      <td>0.999000</td>\n",
       "      <td>11.000000</td>\n",
       "      <td>-0.276000</td>\n",
       "      <td>1.000000</td>\n",
       "      <td>0.576000</td>\n",
       "      <td>0.976000</td>\n",
       "      <td>0.985000</td>\n",
       "      <td>0.853000</td>\n",
       "      <td>0.973000</td>\n",
       "      <td>210.851000</td>\n",
       "    </tr>\n",
       "  </tbody>\n",
       "</table>\n",
       "</div>"
      ],
      "text/plain": [
       "         duration_ms         year   popularity  danceability       energy  \\\n",
       "count    1941.000000  1941.000000  1941.000000   1941.000000  1941.000000   \n",
       "mean   228594.973725  2009.520350    59.633179      0.667814     0.721549   \n",
       "std     39249.796103     5.875532    21.501053      0.140608     0.152872   \n",
       "min    113000.000000  1998.000000     0.000000      0.129000     0.054900   \n",
       "25%    203506.000000  2004.000000    56.000000      0.581000     0.624000   \n",
       "50%    223186.000000  2010.000000    65.000000      0.676000     0.739000   \n",
       "75%    247946.000000  2015.000000    73.000000      0.765000     0.840000   \n",
       "max    484146.000000  2020.000000    89.000000      0.975000     0.999000   \n",
       "\n",
       "               key     loudness         mode  speechiness  acousticness  \\\n",
       "count  1941.000000  1941.000000  1941.000000  1941.000000   1941.000000   \n",
       "mean      5.369397    -5.514082     0.553323     0.103783      0.128173   \n",
       "std       3.615270     1.938950     0.497277     0.096148      0.172584   \n",
       "min       0.000000   -20.514000     0.000000     0.023200      0.000019   \n",
       "25%       2.000000    -6.490000     0.000000     0.039700      0.013500   \n",
       "50%       6.000000    -5.285000     1.000000     0.061000      0.055800   \n",
       "75%       8.000000    -4.168000     1.000000     0.129000      0.176000   \n",
       "max      11.000000    -0.276000     1.000000     0.576000      0.976000   \n",
       "\n",
       "       instrumentalness     liveness      valence        tempo  \n",
       "count       1941.000000  1941.000000  1941.000000  1941.000000  \n",
       "mean           0.015372     0.181726     0.552966   120.158442  \n",
       "std            0.088371     0.140910     0.220845    26.990475  \n",
       "min            0.000000     0.021500     0.038100    60.019000  \n",
       "25%            0.000000     0.088400     0.390000    98.986000  \n",
       "50%            0.000000     0.124000     0.560000   120.028000  \n",
       "75%            0.000069     0.242000     0.731000   134.199000  \n",
       "max            0.985000     0.853000     0.973000   210.851000  "
      ]
     },
     "execution_count": 6,
     "metadata": {},
     "output_type": "execute_result"
    }
   ],
   "source": [
    "# Summary statistics on data frame\n",
    "dataframe_filtered.describe()"
   ]
  }
 ],
 "metadata": {
  "kernelspec": {
   "display_name": "base",
   "language": "python",
   "name": "python3"
  },
  "language_info": {
   "codemirror_mode": {
    "name": "ipython",
    "version": 3
   },
   "file_extension": ".py",
   "mimetype": "text/x-python",
   "name": "python",
   "nbconvert_exporter": "python",
   "pygments_lexer": "ipython3",
   "version": "3.12.7"
  }
 },
 "nbformat": 4,
 "nbformat_minor": 5
}
